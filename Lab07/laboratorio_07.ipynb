{
 "cells": [
  {
   "cell_type": "markdown",
   "metadata": {},
   "source": [
    "<img src=\"images/usm.jpg\" width=\"480\" height=\"240\" align=\"left\"/>"
   ]
  },
  {
   "cell_type": "markdown",
   "metadata": {},
   "source": [
    "# MAT281 - Laboratorios N°01\n",
    "\n",
    "## Objetivos del laboratorio\n",
    "\n",
    "* Reforzar conceptos básicos de regresión lineal."
   ]
  },
  {
   "cell_type": "markdown",
   "metadata": {},
   "source": [
    "## Contenidos\n",
    "\n",
    "* [Problema 01](#p1)\n"
   ]
  },
  {
   "cell_type": "markdown",
   "metadata": {},
   "source": [
    "<a id='p1'></a>\n",
    "## I.- Problema 01\n",
    "\n",
    "\n",
    "<img src=\"https://upload.wikimedia.org/wikipedia/commons/thumb/b/b6/Anscombe.svg/1200px-Anscombe.svg.png\" width=\"360\" height=\"360\" align=\"center\"/>\n",
    "\n"
   ]
  },
  {
   "cell_type": "markdown",
   "metadata": {},
   "source": [
    "El **cuarteto de Anscombe** comprende cuatro conjuntos de datos que tienen las mismas propiedades estadísticas, pero que evidentemente son distintas al inspeccionar sus gráficos respectivos.\n",
    "\n",
    "Cada conjunto consiste de once puntos (x, y) y fueron construidos por el estadístico F. J. Anscombe. El cuarteto es una demostración de la importancia de mirar gráficamente un conjunto de datos antes de analizarlos."
   ]
  },
  {
   "cell_type": "code",
   "execution_count": 153,
   "metadata": {},
   "outputs": [],
   "source": [
    "import os\n",
    "import numpy as np\n",
    "import pandas as pd\n",
    "import matplotlib.pyplot as plt\n",
    "import seaborn as sns\n",
    "\n",
    "%matplotlib inline\n",
    "sns.set_palette(\"deep\", desat=.6)\n",
    "sns.set(rc={'figure.figsize':(11.7,8.27)})"
   ]
  },
  {
   "cell_type": "code",
   "execution_count": 154,
   "metadata": {},
   "outputs": [
    {
     "data": {
      "text/html": [
       "<div>\n",
       "<style scoped>\n",
       "    .dataframe tbody tr th:only-of-type {\n",
       "        vertical-align: middle;\n",
       "    }\n",
       "\n",
       "    .dataframe tbody tr th {\n",
       "        vertical-align: top;\n",
       "    }\n",
       "\n",
       "    .dataframe thead th {\n",
       "        text-align: right;\n",
       "    }\n",
       "</style>\n",
       "<table border=\"1\" class=\"dataframe\">\n",
       "  <thead>\n",
       "    <tr style=\"text-align: right;\">\n",
       "      <th></th>\n",
       "      <th>x</th>\n",
       "      <th>y</th>\n",
       "      <th>grupo</th>\n",
       "    </tr>\n",
       "  </thead>\n",
       "  <tbody>\n",
       "    <tr>\n",
       "      <td>0</td>\n",
       "      <td>10</td>\n",
       "      <td>8.04</td>\n",
       "      <td>Grupo_1</td>\n",
       "    </tr>\n",
       "    <tr>\n",
       "      <td>1</td>\n",
       "      <td>8</td>\n",
       "      <td>6.95</td>\n",
       "      <td>Grupo_1</td>\n",
       "    </tr>\n",
       "    <tr>\n",
       "      <td>2</td>\n",
       "      <td>13</td>\n",
       "      <td>7.58</td>\n",
       "      <td>Grupo_1</td>\n",
       "    </tr>\n",
       "    <tr>\n",
       "      <td>3</td>\n",
       "      <td>9</td>\n",
       "      <td>8.81</td>\n",
       "      <td>Grupo_1</td>\n",
       "    </tr>\n",
       "    <tr>\n",
       "      <td>4</td>\n",
       "      <td>11</td>\n",
       "      <td>8.33</td>\n",
       "      <td>Grupo_1</td>\n",
       "    </tr>\n",
       "  </tbody>\n",
       "</table>\n",
       "</div>"
      ],
      "text/plain": [
       "    x     y    grupo\n",
       "0  10  8.04  Grupo_1\n",
       "1   8  6.95  Grupo_1\n",
       "2  13  7.58  Grupo_1\n",
       "3   9  8.81  Grupo_1\n",
       "4  11  8.33  Grupo_1"
      ]
     },
     "execution_count": 154,
     "metadata": {},
     "output_type": "execute_result"
    }
   ],
   "source": [
    "# cargar datos\n",
    "df = pd.read_csv(os.path.join(\"data\",\"anscombe.csv\"), sep=\",\")\n",
    "df.head()"
   ]
  },
  {
   "cell_type": "markdown",
   "metadata": {},
   "source": [
    "Basado en la información presentada responda las siguientes preguntas:"
   ]
  },
  {
   "cell_type": "markdown",
   "metadata": {},
   "source": [
    "1. Gráfique mediante un gráfico tipo **scatter** cada grupo. A simple vista, ¿ los grupos son muy distintos entre si?."
   ]
  },
  {
   "cell_type": "code",
   "execution_count": 155,
   "metadata": {},
   "outputs": [
    {
     "data": {
      "text/plain": [
       "<matplotlib.axes._subplots.AxesSubplot at 0x284050bb208>"
      ]
     },
     "execution_count": 155,
     "metadata": {},
     "output_type": "execute_result"
    },
    {
     "data": {
      "image/png": "[encoded data removed]",
      "text/plain": [
       "<Figure size 842.4x595.44 with 1 Axes>"
      ]
     },
     "metadata": {},
     "output_type": "display_data"
    }
   ],
   "source": [
    "palette = sns.color_palette(\"hls\", 4)\n",
    "\n",
    "sns.scatterplot(\n",
    "    x='x',\n",
    "    y='y',\n",
    "    hue='grupo',# color por Generation\n",
    "    data=df,\n",
    "    palette=palette\n",
    ")"
   ]
  },
  {
   "cell_type": "markdown",
   "metadata": {},
   "source": [
    "Se aprecia que cada grupo tiene un compartamiento diferente. En particular el grupo 1 parece oscilar aleatoriamente al rededor de cierta linea central o eje que esá bien marcado por el grupo 3. De la misma forma para el grupo 2 pero con una oscilación más regular. Por otro lado el grupo 4 parece ser constante para todo y, salvo un outlayer."
   ]
  },
  {
   "cell_type": "markdown",
   "metadata": {},
   "source": [
    "2. Realice un resumen de las medidas estadísticas más significativas ocuapando el comando **describe** para cada grupo. Interprete."
   ]
  },
  {
   "cell_type": "code",
   "execution_count": 156,
   "metadata": {},
   "outputs": [
    {
     "data": {
      "text/html": [
       "<div>\n",
       "<style scoped>\n",
       "    .dataframe tbody tr th:only-of-type {\n",
       "        vertical-align: middle;\n",
       "    }\n",
       "\n",
       "    .dataframe tbody tr th {\n",
       "        vertical-align: top;\n",
       "    }\n",
       "\n",
       "    .dataframe thead th {\n",
       "        text-align: right;\n",
       "    }\n",
       "</style>\n",
       "<table border=\"1\" class=\"dataframe\">\n",
       "  <thead>\n",
       "    <tr style=\"text-align: right;\">\n",
       "      <th></th>\n",
       "      <th>x</th>\n",
       "      <th>y</th>\n",
       "    </tr>\n",
       "  </thead>\n",
       "  <tbody>\n",
       "    <tr>\n",
       "      <td>count</td>\n",
       "      <td>11.000000</td>\n",
       "      <td>11.000000</td>\n",
       "    </tr>\n",
       "    <tr>\n",
       "      <td>mean</td>\n",
       "      <td>9.000000</td>\n",
       "      <td>7.500909</td>\n",
       "    </tr>\n",
       "    <tr>\n",
       "      <td>std</td>\n",
       "      <td>3.316625</td>\n",
       "      <td>2.031568</td>\n",
       "    </tr>\n",
       "    <tr>\n",
       "      <td>min</td>\n",
       "      <td>4.000000</td>\n",
       "      <td>4.260000</td>\n",
       "    </tr>\n",
       "    <tr>\n",
       "      <td>25%</td>\n",
       "      <td>6.500000</td>\n",
       "      <td>6.315000</td>\n",
       "    </tr>\n",
       "    <tr>\n",
       "      <td>50%</td>\n",
       "      <td>9.000000</td>\n",
       "      <td>7.580000</td>\n",
       "    </tr>\n",
       "    <tr>\n",
       "      <td>75%</td>\n",
       "      <td>11.500000</td>\n",
       "      <td>8.570000</td>\n",
       "    </tr>\n",
       "    <tr>\n",
       "      <td>max</td>\n",
       "      <td>14.000000</td>\n",
       "      <td>10.840000</td>\n",
       "    </tr>\n",
       "  </tbody>\n",
       "</table>\n",
       "</div>"
      ],
      "text/plain": [
       "               x          y\n",
       "count  11.000000  11.000000\n",
       "mean    9.000000   7.500909\n",
       "std     3.316625   2.031568\n",
       "min     4.000000   4.260000\n",
       "25%     6.500000   6.315000\n",
       "50%     9.000000   7.580000\n",
       "75%    11.500000   8.570000\n",
       "max    14.000000  10.840000"
      ]
     },
     "execution_count": 156,
     "metadata": {},
     "output_type": "execute_result"
    }
   ],
   "source": [
    "df1=df[df['grupo']=='Grupo_1']\n",
    "df1.describe()"
   ]
  },
  {
   "cell_type": "code",
   "execution_count": 157,
   "metadata": {},
   "outputs": [
    {
     "data": {
      "text/html": [
       "<div>\n",
       "<style scoped>\n",
       "    .dataframe tbody tr th:only-of-type {\n",
       "        vertical-align: middle;\n",
       "    }\n",
       "\n",
       "    .dataframe tbody tr th {\n",
       "        vertical-align: top;\n",
       "    }\n",
       "\n",
       "    .dataframe thead th {\n",
       "        text-align: right;\n",
       "    }\n",
       "</style>\n",
       "<table border=\"1\" class=\"dataframe\">\n",
       "  <thead>\n",
       "    <tr style=\"text-align: right;\">\n",
       "      <th></th>\n",
       "      <th>x</th>\n",
       "      <th>y</th>\n",
       "    </tr>\n",
       "  </thead>\n",
       "  <tbody>\n",
       "    <tr>\n",
       "      <td>count</td>\n",
       "      <td>11.000000</td>\n",
       "      <td>11.000000</td>\n",
       "    </tr>\n",
       "    <tr>\n",
       "      <td>mean</td>\n",
       "      <td>9.000000</td>\n",
       "      <td>7.500909</td>\n",
       "    </tr>\n",
       "    <tr>\n",
       "      <td>std</td>\n",
       "      <td>3.316625</td>\n",
       "      <td>2.031657</td>\n",
       "    </tr>\n",
       "    <tr>\n",
       "      <td>min</td>\n",
       "      <td>4.000000</td>\n",
       "      <td>3.100000</td>\n",
       "    </tr>\n",
       "    <tr>\n",
       "      <td>25%</td>\n",
       "      <td>6.500000</td>\n",
       "      <td>6.695000</td>\n",
       "    </tr>\n",
       "    <tr>\n",
       "      <td>50%</td>\n",
       "      <td>9.000000</td>\n",
       "      <td>8.140000</td>\n",
       "    </tr>\n",
       "    <tr>\n",
       "      <td>75%</td>\n",
       "      <td>11.500000</td>\n",
       "      <td>8.950000</td>\n",
       "    </tr>\n",
       "    <tr>\n",
       "      <td>max</td>\n",
       "      <td>14.000000</td>\n",
       "      <td>9.260000</td>\n",
       "    </tr>\n",
       "  </tbody>\n",
       "</table>\n",
       "</div>"
      ],
      "text/plain": [
       "               x          y\n",
       "count  11.000000  11.000000\n",
       "mean    9.000000   7.500909\n",
       "std     3.316625   2.031657\n",
       "min     4.000000   3.100000\n",
       "25%     6.500000   6.695000\n",
       "50%     9.000000   8.140000\n",
       "75%    11.500000   8.950000\n",
       "max    14.000000   9.260000"
      ]
     },
     "execution_count": 157,
     "metadata": {},
     "output_type": "execute_result"
    }
   ],
   "source": [
    "df2=df[df['grupo']=='Grupo_2']\n",
    "df2.describe()"
   ]
  },
  {
   "cell_type": "code",
   "execution_count": 158,
   "metadata": {},
   "outputs": [
    {
     "data": {
      "text/html": [
       "<div>\n",
       "<style scoped>\n",
       "    .dataframe tbody tr th:only-of-type {\n",
       "        vertical-align: middle;\n",
       "    }\n",
       "\n",
       "    .dataframe tbody tr th {\n",
       "        vertical-align: top;\n",
       "    }\n",
       "\n",
       "    .dataframe thead th {\n",
       "        text-align: right;\n",
       "    }\n",
       "</style>\n",
       "<table border=\"1\" class=\"dataframe\">\n",
       "  <thead>\n",
       "    <tr style=\"text-align: right;\">\n",
       "      <th></th>\n",
       "      <th>x</th>\n",
       "      <th>y</th>\n",
       "    </tr>\n",
       "  </thead>\n",
       "  <tbody>\n",
       "    <tr>\n",
       "      <td>count</td>\n",
       "      <td>11.000000</td>\n",
       "      <td>11.000000</td>\n",
       "    </tr>\n",
       "    <tr>\n",
       "      <td>mean</td>\n",
       "      <td>9.000000</td>\n",
       "      <td>7.500000</td>\n",
       "    </tr>\n",
       "    <tr>\n",
       "      <td>std</td>\n",
       "      <td>3.316625</td>\n",
       "      <td>2.030424</td>\n",
       "    </tr>\n",
       "    <tr>\n",
       "      <td>min</td>\n",
       "      <td>4.000000</td>\n",
       "      <td>5.390000</td>\n",
       "    </tr>\n",
       "    <tr>\n",
       "      <td>25%</td>\n",
       "      <td>6.500000</td>\n",
       "      <td>6.250000</td>\n",
       "    </tr>\n",
       "    <tr>\n",
       "      <td>50%</td>\n",
       "      <td>9.000000</td>\n",
       "      <td>7.110000</td>\n",
       "    </tr>\n",
       "    <tr>\n",
       "      <td>75%</td>\n",
       "      <td>11.500000</td>\n",
       "      <td>7.980000</td>\n",
       "    </tr>\n",
       "    <tr>\n",
       "      <td>max</td>\n",
       "      <td>14.000000</td>\n",
       "      <td>12.740000</td>\n",
       "    </tr>\n",
       "  </tbody>\n",
       "</table>\n",
       "</div>"
      ],
      "text/plain": [
       "               x          y\n",
       "count  11.000000  11.000000\n",
       "mean    9.000000   7.500000\n",
       "std     3.316625   2.030424\n",
       "min     4.000000   5.390000\n",
       "25%     6.500000   6.250000\n",
       "50%     9.000000   7.110000\n",
       "75%    11.500000   7.980000\n",
       "max    14.000000  12.740000"
      ]
     },
     "execution_count": 158,
     "metadata": {},
     "output_type": "execute_result"
    }
   ],
   "source": [
    "df3=df[df['grupo']=='Grupo_3']\n",
    "df3.describe()"
   ]
  },
  {
   "cell_type": "code",
   "execution_count": 159,
   "metadata": {},
   "outputs": [
    {
     "data": {
      "text/html": [
       "<div>\n",
       "<style scoped>\n",
       "    .dataframe tbody tr th:only-of-type {\n",
       "        vertical-align: middle;\n",
       "    }\n",
       "\n",
       "    .dataframe tbody tr th {\n",
       "        vertical-align: top;\n",
       "    }\n",
       "\n",
       "    .dataframe thead th {\n",
       "        text-align: right;\n",
       "    }\n",
       "</style>\n",
       "<table border=\"1\" class=\"dataframe\">\n",
       "  <thead>\n",
       "    <tr style=\"text-align: right;\">\n",
       "      <th></th>\n",
       "      <th>x</th>\n",
       "      <th>y</th>\n",
       "    </tr>\n",
       "  </thead>\n",
       "  <tbody>\n",
       "    <tr>\n",
       "      <td>count</td>\n",
       "      <td>11.000000</td>\n",
       "      <td>11.000000</td>\n",
       "    </tr>\n",
       "    <tr>\n",
       "      <td>mean</td>\n",
       "      <td>9.000000</td>\n",
       "      <td>7.500909</td>\n",
       "    </tr>\n",
       "    <tr>\n",
       "      <td>std</td>\n",
       "      <td>3.316625</td>\n",
       "      <td>2.030579</td>\n",
       "    </tr>\n",
       "    <tr>\n",
       "      <td>min</td>\n",
       "      <td>8.000000</td>\n",
       "      <td>5.250000</td>\n",
       "    </tr>\n",
       "    <tr>\n",
       "      <td>25%</td>\n",
       "      <td>8.000000</td>\n",
       "      <td>6.170000</td>\n",
       "    </tr>\n",
       "    <tr>\n",
       "      <td>50%</td>\n",
       "      <td>8.000000</td>\n",
       "      <td>7.040000</td>\n",
       "    </tr>\n",
       "    <tr>\n",
       "      <td>75%</td>\n",
       "      <td>8.000000</td>\n",
       "      <td>8.190000</td>\n",
       "    </tr>\n",
       "    <tr>\n",
       "      <td>max</td>\n",
       "      <td>19.000000</td>\n",
       "      <td>12.500000</td>\n",
       "    </tr>\n",
       "  </tbody>\n",
       "</table>\n",
       "</div>"
      ],
      "text/plain": [
       "               x          y\n",
       "count  11.000000  11.000000\n",
       "mean    9.000000   7.500909\n",
       "std     3.316625   2.030579\n",
       "min     8.000000   5.250000\n",
       "25%     8.000000   6.170000\n",
       "50%     8.000000   7.040000\n",
       "75%     8.000000   8.190000\n",
       "max    19.000000  12.500000"
      ]
     },
     "execution_count": 159,
     "metadata": {},
     "output_type": "execute_result"
    }
   ],
   "source": [
    "df4=df[ df['grupo']=='Grupo_4' ]\n",
    "df4.describe()"
   ]
  },
  {
   "cell_type": "markdown",
   "metadata": {},
   "source": [
    "Podemos observar que las 4 muestras presentan exactamente los mismos promedios y desviaciones estándar, sin embargo su comportamiento es totalmente distinto. Por ejemplo el grupo 4 tiene un comportamiento tal que para todos los valores de y registrados tenemos un mismo valor x salgo un outlayer."
   ]
  },
  {
   "cell_type": "markdown",
   "metadata": {},
   "source": [
    "3. Realice un ajuste lineal para cada grupo. Además, grafique los resultados de la regresión lineal para cada grupo. Interprete."
   ]
  },
  {
   "cell_type": "code",
   "execution_count": 160,
   "metadata": {},
   "outputs": [
    {
     "name": "stdout",
     "output_type": "stream",
     "text": [
      "El mejor ajuste lineal viene dado por la recta: \n",
      "\n",
      "     Y = 3.0 + 0.5*X\n"
     ]
    }
   ],
   "source": [
    "from sklearn.linear_model import LinearRegression\n",
    "from sklearn.model_selection import train_test_split\n",
    "\n",
    "model1= LinearRegression() # Creando el modelo.\n",
    "model1.fit(df1[['x']], df1['y'])\n",
    "beta_0_1 = round(model1.intercept_,2)\n",
    "beta_1_1 = round(model1.coef_[0],2)\n",
    "print(f\"El mejor ajuste lineal viene dado por la recta: \\n\\n     \\\n",
    "Y = {beta_0_1} + {beta_1_1}*X\")"
   ]
  },
  {
   "cell_type": "code",
   "execution_count": 162,
   "metadata": {},
   "outputs": [
    {
     "data": {
      "image/png": "[encoded data removed]",
      "text/plain": [
       "<Figure size 360x216 with 1 Axes>"
      ]
     },
     "metadata": {},
     "output_type": "display_data"
    }
   ],
   "source": [
    "x1_range = np.arange(3, 15, 0.5)  \n",
    "df_plot1 = pd.DataFrame({'x':x_range,\n",
    "                        'y':[beta_0_1 + beta_1_1*n for n in x1_range]})\n",
    "fig, ax = plt.subplots(figsize=(5, 3))\n",
    "sns.lineplot(x='x', y='y', data= df_plot , ax=ax ,color=\"red\")\n",
    "sns.scatterplot(x='x', y='y', data=df1, ax=ax)\n",
    "plt.xlabel('X')\n",
    "plt.ylabel('Y')\n",
    "plt.show()"
   ]
  },
  {
   "cell_type": "code",
   "execution_count": 150,
   "metadata": {},
   "outputs": [
    {
     "name": "stdout",
     "output_type": "stream",
     "text": [
      "El mejor ajuste lineal viene dado por la recta: \n",
      "\n",
      "     Y = 3.0 + 0.5*X\n"
     ]
    }
   ],
   "source": [
    "model2 = LinearRegression() # Creando el modelo.\n",
    "model2.fit(df2[['x']], df2['y'])\n",
    "beta_0_2 = round(model2.intercept_,2)\n",
    "beta_1_2 = round(model2.coef_[0],2)\n",
    "print(f\"El mejor ajuste lineal viene dado por la recta: \\n\\n     \\\n",
    "Y = {beta_0_2} + {beta_1_2}*X\")"
   ]
  },
  {
   "cell_type": "code",
   "execution_count": 164,
   "metadata": {},
   "outputs": [
    {
     "data": {
      "image/png": "[encoded data removed]",
      "text/plain": [
       "<Figure size 360x216 with 1 Axes>"
      ]
     },
     "metadata": {},
     "output_type": "display_data"
    }
   ],
   "source": [
    "x2_range = np.arange(3, 15, 0.5)  \n",
    "df_plot2 = pd.DataFrame({'x':x_range,\n",
    "                        'y':[beta_0_2 + beta_1_2*n for n in x2_range]})\n",
    "fig, ax = plt.subplots(figsize=(5, 3))\n",
    "sns.lineplot(x='x', y='y', data= df_plot2 , ax=ax ,color=\"red\")\n",
    "sns.scatterplot(x='x', y='y', data=df2, ax=ax)\n",
    "plt.xlabel('X')\n",
    "plt.ylabel('Y')\n",
    "plt.show()"
   ]
  },
  {
   "cell_type": "code",
   "execution_count": 112,
   "metadata": {},
   "outputs": [
    {
     "name": "stdout",
     "output_type": "stream",
     "text": [
      "El mejor ajuste lineal viene dado por la recta: \n",
      "\n",
      "     Y = 3.0 + 0.5*X\n"
     ]
    }
   ],
   "source": [
    "model3 = LinearRegression() # Creando el modelo.\n",
    "model3.fit(df3[['x']], df3['y'])\n",
    "beta_0_3 = round(model3.intercept_,2)\n",
    "beta_1_3 = round(model3.coef_[0],2)\n",
    "print(f\"El mejor ajuste lineal viene dado por la recta: \\n\\n     \\\n",
    "Y = {beta_0_3} + {beta_1_3}*X\")"
   ]
  },
  {
   "cell_type": "code",
   "execution_count": 165,
   "metadata": {},
   "outputs": [
    {
     "data": {
      "image/png": "[encoded data removed]",
      "text/plain": [
       "<Figure size 360x216 with 1 Axes>"
      ]
     },
     "metadata": {},
     "output_type": "display_data"
    }
   ],
   "source": [
    "x3_range = np.arange(3, 15, 0.5)  \n",
    "df_plot3 = pd.DataFrame({'x':x3_range,\n",
    "                        'y':[beta_0_3 + beta_1_3*n for n in x3_range]})\n",
    "fig, ax = plt.subplots(figsize=(5, 3))\n",
    "sns.lineplot(x='x', y='y', data= df_plot3 , ax=ax ,color=\"red\")\n",
    "sns.scatterplot(x='x', y='y', data=df3, ax=ax)\n",
    "plt.xlabel('X')\n",
    "plt.ylabel('Y')\n",
    "plt.show()"
   ]
  },
  {
   "cell_type": "code",
   "execution_count": 113,
   "metadata": {},
   "outputs": [
    {
     "name": "stdout",
     "output_type": "stream",
     "text": [
      "El mejor ajuste lineal viene dado por la recta: \n",
      "\n",
      "     Y = 3.0 + 0.5*X\n"
     ]
    }
   ],
   "source": [
    "model4 = LinearRegression() # Creando el modelo.\n",
    "model4.fit(df4[['x']], df4['y'])\n",
    "beta_0_4 = round(model4.intercept_,2)\n",
    "beta_1_4 = round(model4.coef_[0],2)\n",
    "print(f\"El mejor ajuste lineal viene dado por la recta: \\n\\n     \\\n",
    "Y = {beta_0_4} + {beta_1_4}*X\")"
   ]
  },
  {
   "cell_type": "code",
   "execution_count": 169,
   "metadata": {},
   "outputs": [
    {
     "data": {
      "image/png": "[encoded data removed]",
      "text/plain": [
       "<Figure size 360x216 with 1 Axes>"
      ]
     },
     "metadata": {},
     "output_type": "display_data"
    }
   ],
   "source": [
    "x4_range = np.arange(3, 20, 0.5)  \n",
    "df_plot4 = pd.DataFrame({'x':x4_range,\n",
    "                        'y':[beta_0_4 + beta_1_4*n for n in x4_range]})\n",
    "fig, ax = plt.subplots(figsize=(5, 3))\n",
    "sns.lineplot(x='x', y='y', data= df_plot4 , ax=ax ,color=\"red\")\n",
    "sns.scatterplot(x='x', y='y', data=df4, ax=ax)\n",
    "plt.xlabel('X')\n",
    "plt.ylabel('Y')\n",
    "plt.show()"
   ]
  },
  {
   "cell_type": "markdown",
   "metadata": {},
   "source": [
    "4. Calcule los resultados de las métricas para cada grupo. Interprete."
   ]
  },
  {
   "cell_type": "code",
   "execution_count": 114,
   "metadata": {},
   "outputs": [],
   "source": [
    "from metrics_regression import *\n",
    "from sklearn.metrics import r2_score"
   ]
  },
  {
   "cell_type": "code",
   "execution_count": 121,
   "metadata": {},
   "outputs": [
    {
     "name": "stdout",
     "output_type": "stream",
     "text": [
      "\n",
      "Metricas para x:\n",
      "\n",
      "      mae     mse    rmse    mape  maape   wmape   mmape   smape      r2\n",
      "0  0.8374  1.2512  1.1185  0.1213  0.119  0.1116  0.1048  0.1167  0.6665\n"
     ]
    }
   ],
   "source": [
    "df_temp1 = pd.DataFrame(\n",
    "    {\n",
    "        'y':df1['y'],\n",
    "        'yhat': model1.predict(df1[['x']])\n",
    "        }\n",
    ")\n",
    "df_metrics1 = summary_metrics(df_temp1)\n",
    "df_metrics1['r2'] =  round(r2_score(df1['y'], model1.predict(df1[['x']])),4)\n",
    "print('\\nMetricas para x:\\n')\n",
    "print(df_metrics1)"
   ]
  },
  {
   "cell_type": "code",
   "execution_count": 120,
   "metadata": {},
   "outputs": [
    {
     "name": "stdout",
     "output_type": "stream",
     "text": [
      "\n",
      "Metricas para x:\n",
      "\n",
      "      mae     mse    rmse   mape   maape  wmape   mmape   smape      r2\n",
      "0  0.9679  1.2524  1.1191  0.157  0.1504  0.129  0.1315  0.1438  0.6662\n"
     ]
    }
   ],
   "source": [
    "df_temp2 = pd.DataFrame(\n",
    "    {\n",
    "        'y':df2['y'],\n",
    "        'yhat': model2.predict(df2[['x']])\n",
    "        }\n",
    ")\n",
    "df_metrics2 = summary_metrics(df_temp2)\n",
    "df_metrics2['r2'] =  round(r2_score(df2['y'], model2.predict(df2[['x']])),4)\n",
    "print('\\nMetricas para x:\\n')\n",
    "print(df_metrics2)"
   ]
  },
  {
   "cell_type": "code",
   "execution_count": 119,
   "metadata": {},
   "outputs": [
    {
     "name": "stdout",
     "output_type": "stream",
     "text": [
      "\n",
      "Metricas para x:\n",
      "\n",
      "     mae     mse    rmse    mape   maape   wmape   mmape   smape      r2\n",
      "0  0.716  1.2506  1.1183  0.0797  0.0791  0.0955  0.0712  0.0814  0.6663\n"
     ]
    }
   ],
   "source": [
    "df_temp3 = pd.DataFrame(\n",
    "    {\n",
    "        'y':df3['y'],\n",
    "        'yhat': model3.predict(df3[['x']])\n",
    "        }\n",
    ")\n",
    "df_metrics3 = summary_metrics(df_temp3)\n",
    "df_metrics3['r2'] =  round(r2_score(df3['y'], model3.predict(df3[['x']])),4)\n",
    "print('\\nMetricas para x:\\n')\n",
    "print(df_metrics3)"
   ]
  },
  {
   "cell_type": "code",
   "execution_count": 118,
   "metadata": {},
   "outputs": [
    {
     "name": "stdout",
     "output_type": "stream",
     "text": [
      "\n",
      "Metricas para x:\n",
      "\n",
      "      mae     mse    rmse    mape   maape   wmape   mmape   smape      r2\n",
      "0  0.9027  1.2493  1.1177  0.1347  0.1324  0.1203  0.1167  0.1303  0.6667\n"
     ]
    }
   ],
   "source": [
    "df_temp4 = pd.DataFrame(\n",
    "    {\n",
    "        'y':df4['y'],\n",
    "        'yhat': model4.predict(df4[['x']])\n",
    "        }\n",
    ")\n",
    "df_metrics4 = summary_metrics(df_temp4)\n",
    "df_metrics4['r2'] =  round(r2_score(df4['y'], model4.predict(df4[['x']])),4)\n",
    "print('\\nMetricas para x:\\n')\n",
    "print(df_metrics4)"
   ]
  },
  {
   "cell_type": "markdown",
   "metadata": {},
   "source": [
    "Observamos que el valor r2 para cada regresión es casi el mismo para todos salvo por milésimas, aun así el comportamiento observado en los gráficos no es el mismo. En particular para el grupo 4 que tiene un comportamiento casi vertical. Se aprecia de los gráficos de puntos que el grupo 4 tiene un outlier lejos de los valores de 'x'."
   ]
  },
  {
   "cell_type": "markdown",
   "metadata": {},
   "source": [
    "5. Es claro que el ajuste lineal para algunos grupos no es el correcto. Existen varias formas de solucionar este problema (eliminar outliers, otros modelos, etc.). Identifique una estrategia para que el modelo de regresión lineal ajuste de mejor manera e implemente otros modelos en los casos que encuentre necesario. "
   ]
  },
  {
   "cell_type": "markdown",
   "metadata": {},
   "source": [
    "Dado que los grupos 1 y 2  tienen un comportamiento más aproximado a la recta se dejarán como tal y trabajaremos con los datos del grupo 3 y 4."
   ]
  },
  {
   "cell_type": "markdown",
   "metadata": {},
   "source": [
    "Para el grupo 3 eliminamos el valor más alto según el gráfico de puntos."
   ]
  },
  {
   "cell_type": "code",
   "execution_count": 181,
   "metadata": {},
   "outputs": [
    {
     "name": "stdout",
     "output_type": "stream",
     "text": [
      "El mejor ajuste lineal viene dado por la recta: \n",
      "\n",
      "     Y = 4.01 + 0.35*X\n"
     ]
    }
   ],
   "source": [
    "df31=df3[ df3['y']<12 ]\n",
    "model5 = LinearRegression() # Creando el modelo.\n",
    "model5.fit(df31[['x']], df31['y'])\n",
    "beta_0_5 = round(model5.intercept_,2)\n",
    "beta_1_5 = round(model5.coef_[0],2)\n",
    "print(f\"El mejor ajuste lineal viene dado por la recta: \\n\\n     \\\n",
    "Y = {beta_0_5} + {beta_1_5}*X\")"
   ]
  },
  {
   "cell_type": "code",
   "execution_count": 182,
   "metadata": {},
   "outputs": [
    {
     "name": "stdout",
     "output_type": "stream",
     "text": [
      "\n",
      "Metricas para x:\n",
      "\n",
      "      mae  mse    rmse    mape   maape   wmape   mmape   smape   r2\n",
      "0  0.0023  0.0  0.0028  0.0003  0.0003  0.0003  0.0003  0.0003  1.0\n"
     ]
    }
   ],
   "source": [
    "df_temp5 = pd.DataFrame(\n",
    "    {\n",
    "        'y':df31['y'],\n",
    "        'yhat': model5.predict(df31[['x']])\n",
    "        }\n",
    ")\n",
    "df_metrics5 = summary_metrics(df_temp5)\n",
    "df_metrics5['r2'] =  round(r2_score(df31['y'], model5.predict(df31[['x']])),4)\n",
    "print('\\nMetricas para x:\\n')\n",
    "print(df_metrics5)"
   ]
  },
  {
   "cell_type": "markdown",
   "metadata": {},
   "source": [
    "Para el grupo 4 eliminaremos el punto 'x' que está más alejado."
   ]
  },
  {
   "cell_type": "code",
   "execution_count": 172,
   "metadata": {},
   "outputs": [],
   "source": [
    "df41=df4[ df4['x']<19 ] #aplicamos máscara"
   ]
  },
  {
   "cell_type": "code",
   "execution_count": 176,
   "metadata": {},
   "outputs": [
    {
     "name": "stdout",
     "output_type": "stream",
     "text": [
      "El mejor ajuste lineal viene dado por la recta: \n",
      "\n",
      "     Y = 7.0 + 0.0*X\n"
     ]
    }
   ],
   "source": [
    "model6 = LinearRegression() # Creando el modelo.\n",
    "model6.fit(df41[['x']], df41['y'])\n",
    "beta_0_6 = round(model6.intercept_,2)\n",
    "beta_1_6 = round(model6.coef_[0],2)\n",
    "print(f\"El mejor ajuste lineal viene dado por la recta: \\n\\n     \\\n",
    "Y = {beta_0_6} + {beta_1_6}*X\")"
   ]
  },
  {
   "cell_type": "code",
   "execution_count": 189,
   "metadata": {},
   "outputs": [
    {
     "name": "stdout",
     "output_type": "stream",
     "text": [
      "\n",
      "Metricas para x:\n",
      "\n",
      "     mae     mse    rmse    mape   maape   wmape   mmape   smape   r2\n",
      "0  0.993  1.3742  1.1723  0.1482  0.1456  0.1418  0.1283  0.1434  0.0\n"
     ]
    }
   ],
   "source": [
    "df_temp6 = pd.DataFrame(\n",
    "    {\n",
    "        'y':df41['y'],\n",
    "        'yhat': model6.predict(df41[['x']])\n",
    "        }\n",
    ")\n",
    "df_metrics6 = summary_metrics(df_temp6)\n",
    "df_metrics6['r2'] =  round(r2_score(df41['y'], model6.predict(df41[['x']])),4)\n",
    "print('\\nMetricas para x:\\n')\n",
    "print(df_metrics6)"
   ]
  },
  {
   "cell_type": "markdown",
   "metadata": {},
   "source": [
    "Vemos que al eliminar el elemento x=19, nuestra regresión corresponde a una recta horizontal y=7."
   ]
  }
 ],
 "metadata": {
  "kernelspec": {
   "display_name": "Python 3",
   "language": "python",
   "name": "python3"
  },
  "language_info": {
   "codemirror_mode": {
    "name": "ipython",
    "version": 3
   },
   "file_extension": ".py",
   "mimetype": "text/x-python",
   "name": "python",
   "nbconvert_exporter": "python",
   "pygments_lexer": "ipython3",
   "version": "3.7.4"
  }
 },
 "nbformat": 4,
 "nbformat_minor": 4
}
